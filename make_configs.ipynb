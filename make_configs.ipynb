{
 "cells": [
  {
   "cell_type": "code",
   "execution_count": 12,
   "id": "a4a5a7b9-bbc6-4c04-952c-bd9c0f9e3c38",
   "metadata": {},
   "outputs": [],
   "source": [
    "import utils\n",
    "import yaml\n",
    "import copy\n",
    "import numpy as np"
   ]
  },
  {
   "cell_type": "code",
   "execution_count": 3,
   "id": "5e736073-0bb9-415e-b757-0737724d4a10",
   "metadata": {},
   "outputs": [],
   "source": [
    "with open('configs/discrete_mass_k_beta/default_discrete_mass_k_beta.yaml','r') as fin:\n",
    "    default_config = yaml.safe_load(fin)"
   ]
  },
  {
   "cell_type": "code",
   "execution_count": 19,
   "id": "59c44ea4-bd1b-4389-aa0b-21fe34264a07",
   "metadata": {},
   "outputs": [],
   "source": [
    "# making configs with a range of discrete settings for m, k, beta\n",
    "k_values = [10,11,12,13,14,15,16,17,18,19,20]\n",
    "m_values = [1,2,3,4,5,6,7,8,9,10]\n",
    "beta_values = [0,1,2,3,4]\n",
    "\n",
    "m_vals = dict(\n",
    "    mAll=[1,2,3,4,5,6,7,8,9,10],\n",
    "    mLo=[1,2,3,4,5],\n",
    "    mHi=[6,7,8,9,10],\n",
    "    mLoHi4=[1,2,3,4,7,8,9,10],\n",
    "    mLoHi3=[1,2,3,8,9,10],\n",
    "    mLoHi2=[1,2,9,10]\n",
    ")\n",
    "\n",
    "k_vals = dict(\n",
    "    kAll=[10,11,12,13,14,15,16,17,18,19,20],\n",
    "    kLo=[10,11,12,13,14,15],\n",
    "    kHi=[16,17,18,19,20],\n",
    "    kLoHi5=[10,11,12,13,14,16,17,18,19,20],\n",
    "    kLoHi4=[10,11,12,13,17,18,19,20],\n",
    "    kLoHi3=[10,11,12,18,19,20],\n",
    "    kLoHi2=[10,11,19,20]\n",
    ")\n",
    "\n",
    "beta_vals = dict(\n",
    "    betaAll=[0,1,2,3,4],\n",
    "    beta0=[0],\n",
    "    beta01=[0,1],\n",
    "    beta012=[0,1,2],\n",
    "    beta0123=[0,1,2,3],\n",
    "    betaLo=[1,2],\n",
    "    betaHi=[3,4],\n",
    "    betaLoHi2=[0,1,3,4],\n",
    "    betaLoHi1=[0,4],\n",
    "    betaMid=[1,2]\n",
    ")\n",
    "\n",
    "cfg = []\n",
    "for bval in beta_vals.keys():\n",
    "    for kval in k_vals.keys():\n",
    "        for mval in m_vals.keys():\n",
    "            name=f\"{mval}_{kval}_{bval}\"\n",
    "            config = copy.deepcopy(default_config)\n",
    "            config['model_name'] = f\"discrete_mkb_{name}\"\n",
    "            config['dataset_params']['m'] = m_vals[mval]\n",
    "            config['dataset_params']['k'] = k_vals[kval]\n",
    "            config['dataset_params']['beta'] = beta_vals[bval]\n",
    "\n",
    "            with open(f\"configs/discrete_mass_k_beta/discrete_mkb_{name}.yaml\",\"w\") as fout:\n",
    "                yaml.safe_dump(config,fout)"
   ]
  },
  {
   "cell_type": "code",
   "execution_count": 9,
   "id": "6fc8272d-da87-4227-b1ad-c449223ded02",
   "metadata": {},
   "outputs": [
    {
     "data": {
      "text/plain": [
       "550"
      ]
     },
     "execution_count": 9,
     "metadata": {},
     "output_type": "execute_result"
    }
   ],
   "source": [
    "len(all_choices)"
   ]
  },
  {
   "cell_type": "code",
   "execution_count": 16,
   "id": "7e22793c-41fc-4b98-aa1c-129f807f89ba",
   "metadata": {},
   "outputs": [
    {
     "ename": "ValueError",
     "evalue": "Cannot take a larger sample than population when 'replace=False'",
     "output_type": "error",
     "traceback": [
      "\u001b[0;31m---------------------------------------------------------------------------\u001b[0m",
      "\u001b[0;31mValueError\u001b[0m                                Traceback (most recent call last)",
      "Cell \u001b[0;32mIn[16], line 1\u001b[0m\n\u001b[0;32m----> 1\u001b[0m \u001b[43mnp\u001b[49m\u001b[38;5;241;43m.\u001b[39;49m\u001b[43mrandom\u001b[49m\u001b[38;5;241;43m.\u001b[39;49m\u001b[43mchoice\u001b[49m\u001b[43m(\u001b[49m\u001b[38;5;241;43m10\u001b[39;49m\u001b[43m,\u001b[49m\u001b[43msize\u001b[49m\u001b[38;5;241;43m=\u001b[39;49m\u001b[38;5;241;43m11\u001b[39;49m\u001b[43m,\u001b[49m\u001b[43mreplace\u001b[49m\u001b[38;5;241;43m=\u001b[39;49m\u001b[38;5;28;43;01mFalse\u001b[39;49;00m\u001b[43m)\u001b[49m\n",
      "File \u001b[0;32mnumpy/random/mtrand.pyx:1001\u001b[0m, in \u001b[0;36mnumpy.random.mtrand.RandomState.choice\u001b[0;34m()\u001b[0m\n",
      "\u001b[0;31mValueError\u001b[0m: Cannot take a larger sample than population when 'replace=False'"
     ]
    }
   ],
   "source": [
    "np.random.choice(10,size=11,replace=False)"
   ]
  },
  {
   "cell_type": "code",
   "execution_count": null,
   "id": "350185c8-7f3b-4f54-90d7-c6b6438cce92",
   "metadata": {},
   "outputs": [],
   "source": []
  }
 ],
 "metadata": {
  "kernelspec": {
   "display_name": "Python [conda env:torch]",
   "language": "python",
   "name": "conda-env-torch-py"
  },
  "language_info": {
   "codemirror_mode": {
    "name": "ipython",
    "version": 3
   },
   "file_extension": ".py",
   "mimetype": "text/x-python",
   "name": "python",
   "nbconvert_exporter": "python",
   "pygments_lexer": "ipython3",
   "version": "3.12.8"
  }
 },
 "nbformat": 4,
 "nbformat_minor": 5
}
