{
 "cells": [
  {
   "cell_type": "code",
   "execution_count": 1,
   "id": "a4a5a7b9-bbc6-4c04-952c-bd9c0f9e3c38",
   "metadata": {},
   "outputs": [],
   "source": [
    "import utils\n",
    "import yaml\n",
    "import copy\n",
    "import numpy as np\n",
    "import os"
   ]
  },
  {
   "cell_type": "markdown",
   "id": "ffdd4f92-55aa-472a-b1cf-f95fec62fa7d",
   "metadata": {
    "tags": []
   },
   "source": [
    "# Discrete masses, spring constants, and betas"
   ]
  },
  {
   "cell_type": "markdown",
   "id": "e722d11f-a9da-4ba9-8d73-718a34a65ccb",
   "metadata": {},
   "source": [
    "## with RoPE"
   ]
  },
  {
   "cell_type": "code",
   "execution_count": 2,
   "id": "77f52360-0b97-4236-9dd1-39766024cdd3",
   "metadata": {},
   "outputs": [],
   "source": [
    "with open('configs/discrete_mass_k_beta/default_discrete_mass_k_beta.yaml','r') as fin:\n",
    "    default_config = yaml.safe_load(fin)\n",
    "\n",
    "m_vals = dict(\n",
    "    mAll=[1,2,3,4,5,6,7,8,9,10],\n",
    "    mLo=[1,2,3,4,5],\n",
    "    mHi=[6,7,8,9,10],\n",
    "    mLoHi=[1,2,3,8,9,10],\n",
    ")\n",
    "\n",
    "k_vals = dict(\n",
    "    kAll=[10,11,12,13,14,15,16,17,18,19,20],\n",
    "    kLo=[10,11,12,13,14,15],\n",
    "    kHi=[16,17,18,19,20],\n",
    "    kLoHi=[10,11,12,13,17,18,19,20],\n",
    ")\n",
    "\n",
    "beta_vals = dict(\n",
    "    betaAll=[0,1,2,3,4],\n",
    "    beta0=[0],\n",
    "    betaLo=[0,1,2],\n",
    "    betaHi=[2,3,4],\n",
    "    betaLoHi=[0,1,3,4]\n",
    ")\n",
    "\n",
    "cfg = []\n",
    "for bval in beta_vals.keys():\n",
    "    for kval in k_vals.keys():\n",
    "        for mval in m_vals.keys():\n",
    "            name=f\"{mval}_{kval}_{bval}\"\n",
    "            config = copy.deepcopy(default_config)\n",
    "            config['model_name'] = f\"discrete_mkb_{name}\"\n",
    "            config['dataset_params']['m'] = m_vals[mval]\n",
    "            config['dataset_params']['k'] = k_vals[kval]\n",
    "            config['dataset_params']['beta'] = beta_vals[bval]\n",
    "\n",
    "            with open(f\"configs/discrete_mass_k_beta/discrete_mkb_{name}.yaml\",\"w\") as fout:\n",
    "                yaml.safe_dump(config,fout)"
   ]
  },
  {
   "cell_type": "markdown",
   "id": "db38ce6c-7fab-4469-ad0a-5daf37c6cda9",
   "metadata": {},
   "source": [
    "## without RoPE"
   ]
  },
  {
   "cell_type": "code",
   "execution_count": 3,
   "id": "80c6a74a-3b9f-4028-9e08-17aa96b4224b",
   "metadata": {},
   "outputs": [],
   "source": [
    "base = \"configs/discrete_mass_k_beta/\"\n",
    "tgt = \"configs/discrete_mass_k_beta_noRoPE/\"\n",
    "all_yamls = [f for f in os.listdir(base) if '.yaml' in f]\n",
    "os.makedirs(tgt,exist_ok=True)\n",
    "\n",
    "for yml in all_yamls:\n",
    "    config = yaml.safe_load(open(f\"{base}/{yml}\",\"r\"))\n",
    "    config['model_params']['use_rope'] = False\n",
    "    config['model_name'] = config['model_name'] + \"_noRoPE\"\n",
    "    yaml.safe_dump(config,open(f\"{tgt}/{yml.split('.')[0]}_noRoPE.yaml\",\"w\"))"
   ]
  },
  {
   "cell_type": "markdown",
   "id": "c129f6f7-8cb3-44f0-95a5-099a7750d8e6",
   "metadata": {},
   "source": [
    "# Continuous masses, spring constants, and betas"
   ]
  },
  {
   "cell_type": "markdown",
   "id": "1dfa8eb5-8587-41fd-80e7-f06a3e515254",
   "metadata": {},
   "source": [
    "## with RoPE"
   ]
  },
  {
   "cell_type": "code",
   "execution_count": 4,
   "id": "7db71b23-0176-4667-b5dd-0c234208c778",
   "metadata": {},
   "outputs": [],
   "source": [
    "with open('configs/continuous_mkb/default_continuous_mkb.yaml','r') as fin:\n",
    "    default_config = yaml.safe_load(fin)\n",
    "\n",
    "m_vals = dict(\n",
    "    mAll=[1,10],\n",
    "    mLo=[1,5],\n",
    "    mHi=[5,10],\n",
    "    mLoHi=[[1,3],[8,10]],\n",
    ")\n",
    "\n",
    "k_vals = dict(\n",
    "    kAll=[10,20],\n",
    "    kLo=[10,15],\n",
    "    kHi=[15,20],\n",
    "    kLoHi=[[10,13],[17,20]],\n",
    ")\n",
    "\n",
    "beta_vals = dict(\n",
    "    betaAll=[0,4],\n",
    "    beta0=[0,0],\n",
    "    betaLo=[0,2],\n",
    "    betaHi=[2,4],\n",
    "    betaLoHi=[[0,1],[3,4]],\n",
    ")\n",
    "\n",
    "cfg = []\n",
    "for bval in beta_vals.keys():\n",
    "    for kval in k_vals.keys():\n",
    "        for mval in m_vals.keys():\n",
    "            name=f\"{mval}_{kval}_{bval}\"\n",
    "            config = copy.deepcopy(default_config)\n",
    "            config['model_name'] = f\"continuous_mkb_{name}\"\n",
    "            config['dataset_params']['m'] = m_vals[mval]\n",
    "            config['dataset_params']['k'] = k_vals[kval]\n",
    "            config['dataset_params']['beta'] = beta_vals[bval]\n",
    "\n",
    "            with open(f\"configs/continuous_mkb/continuous_mkb_{name}.yaml\",\"w\") as fout:\n",
    "                yaml.safe_dump(config,fout)"
   ]
  },
  {
   "cell_type": "markdown",
   "id": "a6244d73-d4a1-4935-be58-99e3c3a9d3eb",
   "metadata": {},
   "source": [
    "## without RoPE"
   ]
  },
  {
   "cell_type": "code",
   "execution_count": 5,
   "id": "8e06cf3d-3697-4106-85b7-73ea4f23043d",
   "metadata": {},
   "outputs": [],
   "source": [
    "base = \"configs/continuous_mkb/\"\n",
    "tgt = \"configs/continuous_mkb_noRoPE/\"\n",
    "all_yamls = [f for f in os.listdir(base) if '.yaml' in f]\n",
    "os.makedirs(tgt,exist_ok=True)\n",
    "\n",
    "for yml in all_yamls:\n",
    "    config = yaml.safe_load(open(f\"{base}/{yml}\",\"r\"))\n",
    "    config['model_params']['use_rope'] = False\n",
    "    config['model_name'] = config['model_name'] + \"_noRoPE\"\n",
    "    yaml.safe_dump(config,open(f\"{tgt}/{yml.split('.')[0]}_noRoPE.yaml\",\"w\"))"
   ]
  },
  {
   "cell_type": "code",
   "execution_count": null,
   "id": "350185c8-7f3b-4f54-90d7-c6b6438cce92",
   "metadata": {},
   "outputs": [],
   "source": []
  }
 ],
 "metadata": {
  "kernelspec": {
   "display_name": "Python [conda env:mamba-torch_gpu]",
   "language": "python",
   "name": "conda-env-mamba-torch_gpu-py"
  },
  "language_info": {
   "codemirror_mode": {
    "name": "ipython",
    "version": 3
   },
   "file_extension": ".py",
   "mimetype": "text/x-python",
   "name": "python",
   "nbconvert_exporter": "python",
   "pygments_lexer": "ipython3",
   "version": "3.10.15"
  }
 },
 "nbformat": 4,
 "nbformat_minor": 5
}
